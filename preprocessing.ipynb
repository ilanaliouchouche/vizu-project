{
 "cells": [
  {
   "cell_type": "markdown",
   "metadata": {},
   "source": [
    "# **Data Cleaning**\n",
    "\n",
    "## Introduction\n",
    "In this notebook, we will be cleaning a dataset that contains records of 3 million flights in the United States from 2019 to 2023. The dataset provides valuable information about flight delays and cancellations. \n",
    "\n",
    "## Data Source\n",
    "- [official source](https://www.transtats.bts.gov/)\n",
    "- [original Dataset](https://www.kaggle.com/datasets/patrickzel/flight-delay-and-cancellation-dataset-2019-2023)\n",
    "\n",
    "The goal of this notebook is to preprocess and clean the dataset to make it suitable for further analysis and visualization."
   ]
  },
  {
   "cell_type": "markdown",
   "metadata": {},
   "source": [
    "## 1. Importing necessary packages"
   ]
  },
  {
   "cell_type": "code",
   "execution_count": 1,
   "metadata": {},
   "outputs": [],
   "source": [
    "import pandas as pd\n",
    "from tqdm.notebook import tqdm\n",
    "from skimpy import skim\n",
    "import os\n",
    "import matplotlib.pyplot as plt"
   ]
  },
  {
   "cell_type": "markdown",
   "metadata": {},
   "source": [
    "## 2. Creating the FlightCSVProcessor Class, which Cleans and Downloads the Clean Dataset as CSV"
   ]
  },
  {
   "cell_type": "code",
   "execution_count": 2,
   "metadata": {},
   "outputs": [],
   "source": [
    "class FlightCSVProcessor:\n",
    "\n",
    "    # The path to the CSV file to process\n",
    "    PATH = \"flights_sample_3m.csv\"\n",
    "\n",
    "    # Constructor of the class FlightCSVProcessor\n",
    "    # @param path The path to the CSV file to process\n",
    "    # @param new_path The path to save the processed CSV file\n",
    "    def __init__(self, path=PATH, new_path=None):\n",
    "        print(\"Loading CSV file...\")\n",
    "        self.df = pd.read_csv(path)\n",
    "        print(\"CSV file loaded.\")\n",
    "        self.path = path\n",
    "        self.new_path = new_path\n",
    "        self.processed = False\n",
    "\n",
    "    # modify the name of the columns and drop some columns\n",
    "    def __compute_columns(self):\n",
    "        map_columns = {\n",
    "            'FL_DATE': 'flight_date',\n",
    "            'AIRLINE_CODE': 'airline_code',\n",
    "            'ORIGIN': 'origin_airport',\n",
    "            'ORIGIN_CITY': 'origin_city',\n",
    "            'DEST': 'destination_airport',\n",
    "            'DEST_CITY': 'destination_city',\n",
    "            'CRS_DEP_TIME': 'scheduled_departure_time',\n",
    "            'DEP_DELAY': 'departure_delay',\n",
    "            'TAXI_OUT': 'taxi_out',\n",
    "            'TAXI_IN': 'taxi_in',\n",
    "            'ARR_DELAY': 'arrival_delay',\n",
    "            'CANCELLED': 'is_cancelled',\n",
    "            'CANCELLATION_CODE': 'cancellation_code',\n",
    "            'AIR_TIME': 'air_time',\n",
    "            'DISTANCE': 'distance_in_miles',\n",
    "            'FL_NUMBER': 'flight_number',\n",
    "            'TAIL_NUMBER': 'tail_number',\n",
    "            'ELAPSED_TIME': 'elapsed_time',\n",
    "            'CRS_ARR_TIME': 'scheduled_arrival_time',\n",
    "            'ACTUAL_ELAPSED_TIME': 'actual_elapsed_time',\n",
    "            'CRS_DEP_TIME': 'scheduled_departure_time',\n",
    "            'CRS_ARR_TIME': 'scheduled_arrival_time',\n",
    "            'CRS_ELAPSED_TIME': 'scheduled_elapsed_time',\n",
    "            'DIVERTED': 'is_diverted',\n",
    "            'DISTANCE_GROUP': 'distance_group',\n",
    "            'ACTUAL_ELAPSED_TIME': 'actual_elapsed_time',\n",
    "            'AIRLINE_CODE': 'airline_code',\n",
    "            'AIR_TIME': 'air_time',\n",
    "            'ARR_DELAY': 'arrival_delay',\n",
    "            'CANCELLATION_CODE': 'cancellation_code',\n",
    "            'CANCELLED': 'is_cancelled',\n",
    "            'CRS_DEP_TIME': 'scheduled_departure_time',\n",
    "            'DEP_DELAY': 'departure_delay',\n",
    "            'DEST': 'destination_airport',\n",
    "            'DEST_CITY': 'destination_city',\n",
    "            'DISTANCE': 'distance_in_miles',\n",
    "            'AIRLINE': 'airline_name',\n",
    "            'ARR_TIME': 'arrival_time',\n",
    "            'DELAY_DUE_CARRIER': 'delay_due_to_carrier',\n",
    "            'DELAY_DUE_LATE_AIRCRAFT': 'delay_due_to_late_aircraft',\n",
    "            'DELAY_DUE_NAS' : 'delay_due_to_national_aviation_system',\n",
    "            'DELAY_DUE_SECURITY' : 'delay_due_to_security',\n",
    "            'DELAY_DUE_WEATHER' : 'delay_due_to_weather',\n",
    "            'DEP_TIME' : 'departure_time',\n",
    "            'WHEELS_OFF' : 'wheels_off',\n",
    "            'WHEELS_ON' : 'wheels_on',\n",
    "        }\n",
    "        print(\"Computing columns...\")\n",
    "        df_tmp = self.df.rename(columns=map_columns)\n",
    "        df_tmp = df_tmp.drop(['AIRLINE_DOT', 'DOT_CODE'], axis=1)\n",
    "        self.df = df_tmp\n",
    "        print(\"Columns computed.\")\n",
    "    \n",
    "    # fill the NaN values of the delay columns with 0\n",
    "    def __fillna_delay(self):\n",
    "        print(\"Filling NaN values...\")\n",
    "        delay_col = self.df.columns[self.df.columns.str.startswith('delay')].tolist()\n",
    "        for col in tqdm(delay_col):\n",
    "            self.df[col] = self.df[col].fillna(0)\n",
    "        print(\"NaN values filled.\")\n",
    "    \n",
    "    # modify the type of the columns\n",
    "    def __make_type(self):\n",
    "        print(\"Making types...\")\n",
    "        self.df['flight_date'] = pd.to_datetime(self.df['flight_date'])\n",
    "        bool_col = self.df.columns[self.df.columns.str.startswith('is')].tolist()\n",
    "        for col in tqdm(bool_col):\n",
    "            self.df[col] = self.df[col].astype(bool)\n",
    "        self.df['distance_in_miles'] = self.df['distance_in_miles'].astype(int)\n",
    "        print(\"Types made.\")\n",
    "\n",
    "    # compute the time columns\n",
    "    def __compute_time(self):\n",
    "        print(\"Computing time...\")\n",
    "        time_cols = self.df.columns[self.df.columns.str.endswith('time')].tolist()\n",
    "        for rc in ['air_time', 'elapsed_time', 'scheduled_elapsed_time']:\n",
    "            time_cols.remove(rc)\n",
    "        time_cols.extend(['wheels_off', 'wheels_on'])\n",
    "        for col in tqdm(time_cols):\n",
    "            self.df[col] = self.df[col].fillna(0).astype(int).astype(str).str.zfill(4)\n",
    "            self.df[col] = pd.to_datetime(self.df[col], format='%H%M', errors='coerce').dt.time\n",
    "        print(\"Time computed.\")\n",
    "    \n",
    "    # compute the duration columns\n",
    "    def __compute_duration(self):\n",
    "        print(\"Computing duration...\")\n",
    "        cols = ['scheduled_elapsed_time', 'elapsed_time', 'air_time', 'arrival_delay', 'departure_delay', 'taxi_in', 'taxi_out', 'delay_due_to_carrier', 'delay_due_to_late_aircraft', 'delay_due_to_national_aviation_system', 'delay_due_to_security', 'delay_due_to_weather', 'delay_due_to_carrier', 'delay_due_to_late_aircraft', 'delay_due_to_national_aviation_system', 'delay_due_to_security']\n",
    "        for col in tqdm(cols):\n",
    "            self.df[col] = self.df[col].fillna(0).astype(int)\n",
    "        print(\"Duration computed.\")\n",
    "    \n",
    "    # process the CSV file\n",
    "    # @param save If True, save the processed CSV file\n",
    "    def process(self, save=False):\n",
    "        print(\"Processing...\")\n",
    "        self.__compute_columns()\n",
    "        self.__fillna_delay()\n",
    "        self.__make_type()\n",
    "        self.__compute_time()\n",
    "        self.__compute_duration()\n",
    "        if save:\n",
    "            if self.new_path is None:\n",
    "                raise ValueError(\"You must provide a path to save the file.\")\n",
    "            self.df.to_csv(self.new_path, index=False)  \n",
    "            print(f\"File saved to {self.new_path}.\")  \n",
    "        self.processed = True\n",
    "        print(\"Processing done.\")\n",
    "\n",
    "    # display the dataframe\n",
    "    def display_df(self, n=5):\n",
    "        return self.df.head(n)   \n",
    "    \n",
    "    def compare_file_sizes(self, title1='Original', title2='Cleaned'):\n",
    "        if self.new_path is None:\n",
    "            raise ValueError(\"You must provide a path to save the file.\")\n",
    "        if not self.processed:\n",
    "            raise ValueError(\"You must process the csv first.\")\n",
    "        file1_size = os.path.getsize(self.path) / (1024 * 1024)  \n",
    "        file2_size = os.path.getsize(self.new_path) / (1024 * 1024)  \n",
    "\n",
    "        plt.scatter([title1, title2], [file1_size, file2_size], s=400, c='blue', alpha=0.5)\n",
    "        plt.xlabel('File')\n",
    "        plt.ylabel('Size (MB)')\n",
    "        plt.title('Comparison of File Sizes')\n",
    "        plt.show()"
   ]
  },
  {
   "cell_type": "code",
   "execution_count": 3,
   "metadata": {},
   "outputs": [
    {
     "name": "stdout",
     "output_type": "stream",
     "text": [
      "Loading CSV file...\n",
      "CSV file loaded.\n"
     ]
    }
   ],
   "source": [
    "flightProc = FlightCSVProcessor(new_path=\"flights_clean.csv\")"
   ]
  },
  {
   "cell_type": "markdown",
   "metadata": {},
   "source": [
    "## Overview of the Original Dataset"
   ]
  },
  {
   "cell_type": "code",
   "execution_count": 54,
   "metadata": {},
   "outputs": [
    {
     "data": {
      "text/html": [
       "<div>\n",
       "<style scoped>\n",
       "    .dataframe tbody tr th:only-of-type {\n",
       "        vertical-align: middle;\n",
       "    }\n",
       "\n",
       "    .dataframe tbody tr th {\n",
       "        vertical-align: top;\n",
       "    }\n",
       "\n",
       "    .dataframe thead th {\n",
       "        text-align: right;\n",
       "    }\n",
       "</style>\n",
       "<table border=\"1\" class=\"dataframe\">\n",
       "  <thead>\n",
       "    <tr style=\"text-align: right;\">\n",
       "      <th></th>\n",
       "      <th>FL_DATE</th>\n",
       "      <th>AIRLINE</th>\n",
       "      <th>AIRLINE_DOT</th>\n",
       "      <th>AIRLINE_CODE</th>\n",
       "      <th>DOT_CODE</th>\n",
       "      <th>FL_NUMBER</th>\n",
       "      <th>ORIGIN</th>\n",
       "      <th>ORIGIN_CITY</th>\n",
       "      <th>DEST</th>\n",
       "      <th>DEST_CITY</th>\n",
       "      <th>...</th>\n",
       "      <th>DIVERTED</th>\n",
       "      <th>CRS_ELAPSED_TIME</th>\n",
       "      <th>ELAPSED_TIME</th>\n",
       "      <th>AIR_TIME</th>\n",
       "      <th>DISTANCE</th>\n",
       "      <th>DELAY_DUE_CARRIER</th>\n",
       "      <th>DELAY_DUE_WEATHER</th>\n",
       "      <th>DELAY_DUE_NAS</th>\n",
       "      <th>DELAY_DUE_SECURITY</th>\n",
       "      <th>DELAY_DUE_LATE_AIRCRAFT</th>\n",
       "    </tr>\n",
       "  </thead>\n",
       "  <tbody>\n",
       "    <tr>\n",
       "      <th>0</th>\n",
       "      <td>2019-01-09</td>\n",
       "      <td>United Air Lines Inc.</td>\n",
       "      <td>United Air Lines Inc.: UA</td>\n",
       "      <td>UA</td>\n",
       "      <td>19977</td>\n",
       "      <td>1562</td>\n",
       "      <td>FLL</td>\n",
       "      <td>Fort Lauderdale, FL</td>\n",
       "      <td>EWR</td>\n",
       "      <td>Newark, NJ</td>\n",
       "      <td>...</td>\n",
       "      <td>0.0</td>\n",
       "      <td>186.0</td>\n",
       "      <td>176.0</td>\n",
       "      <td>153.0</td>\n",
       "      <td>1065.0</td>\n",
       "      <td>NaN</td>\n",
       "      <td>NaN</td>\n",
       "      <td>NaN</td>\n",
       "      <td>NaN</td>\n",
       "      <td>NaN</td>\n",
       "    </tr>\n",
       "    <tr>\n",
       "      <th>1</th>\n",
       "      <td>2022-11-19</td>\n",
       "      <td>Delta Air Lines Inc.</td>\n",
       "      <td>Delta Air Lines Inc.: DL</td>\n",
       "      <td>DL</td>\n",
       "      <td>19790</td>\n",
       "      <td>1149</td>\n",
       "      <td>MSP</td>\n",
       "      <td>Minneapolis, MN</td>\n",
       "      <td>SEA</td>\n",
       "      <td>Seattle, WA</td>\n",
       "      <td>...</td>\n",
       "      <td>0.0</td>\n",
       "      <td>235.0</td>\n",
       "      <td>236.0</td>\n",
       "      <td>189.0</td>\n",
       "      <td>1399.0</td>\n",
       "      <td>NaN</td>\n",
       "      <td>NaN</td>\n",
       "      <td>NaN</td>\n",
       "      <td>NaN</td>\n",
       "      <td>NaN</td>\n",
       "    </tr>\n",
       "    <tr>\n",
       "      <th>2</th>\n",
       "      <td>2022-07-22</td>\n",
       "      <td>United Air Lines Inc.</td>\n",
       "      <td>United Air Lines Inc.: UA</td>\n",
       "      <td>UA</td>\n",
       "      <td>19977</td>\n",
       "      <td>459</td>\n",
       "      <td>DEN</td>\n",
       "      <td>Denver, CO</td>\n",
       "      <td>MSP</td>\n",
       "      <td>Minneapolis, MN</td>\n",
       "      <td>...</td>\n",
       "      <td>0.0</td>\n",
       "      <td>118.0</td>\n",
       "      <td>112.0</td>\n",
       "      <td>87.0</td>\n",
       "      <td>680.0</td>\n",
       "      <td>NaN</td>\n",
       "      <td>NaN</td>\n",
       "      <td>NaN</td>\n",
       "      <td>NaN</td>\n",
       "      <td>NaN</td>\n",
       "    </tr>\n",
       "  </tbody>\n",
       "</table>\n",
       "<p>3 rows × 32 columns</p>\n",
       "</div>"
      ],
      "text/plain": [
       "      FL_DATE                AIRLINE                AIRLINE_DOT AIRLINE_CODE  \\\n",
       "0  2019-01-09  United Air Lines Inc.  United Air Lines Inc.: UA           UA   \n",
       "1  2022-11-19   Delta Air Lines Inc.   Delta Air Lines Inc.: DL           DL   \n",
       "2  2022-07-22  United Air Lines Inc.  United Air Lines Inc.: UA           UA   \n",
       "\n",
       "   DOT_CODE  FL_NUMBER ORIGIN          ORIGIN_CITY DEST        DEST_CITY  ...  \\\n",
       "0     19977       1562    FLL  Fort Lauderdale, FL  EWR       Newark, NJ  ...   \n",
       "1     19790       1149    MSP      Minneapolis, MN  SEA      Seattle, WA  ...   \n",
       "2     19977        459    DEN           Denver, CO  MSP  Minneapolis, MN  ...   \n",
       "\n",
       "   DIVERTED  CRS_ELAPSED_TIME  ELAPSED_TIME  AIR_TIME  DISTANCE  \\\n",
       "0       0.0             186.0         176.0     153.0    1065.0   \n",
       "1       0.0             235.0         236.0     189.0    1399.0   \n",
       "2       0.0             118.0         112.0      87.0     680.0   \n",
       "\n",
       "   DELAY_DUE_CARRIER  DELAY_DUE_WEATHER  DELAY_DUE_NAS  DELAY_DUE_SECURITY  \\\n",
       "0                NaN                NaN            NaN                 NaN   \n",
       "1                NaN                NaN            NaN                 NaN   \n",
       "2                NaN                NaN            NaN                 NaN   \n",
       "\n",
       "   DELAY_DUE_LATE_AIRCRAFT  \n",
       "0                      NaN  \n",
       "1                      NaN  \n",
       "2                      NaN  \n",
       "\n",
       "[3 rows x 32 columns]"
      ]
     },
     "execution_count": 54,
     "metadata": {},
     "output_type": "execute_result"
    }
   ],
   "source": [
    "flightProc.display_df(n=3)"
   ]
  },
  {
   "cell_type": "code",
   "execution_count": 4,
   "metadata": {},
   "outputs": [
    {
     "name": "stdout",
     "output_type": "stream",
     "text": [
      "Processing...\n",
      "Computing columns...\n",
      "Columns computed.\n",
      "Filling NaN values...\n"
     ]
    },
    {
     "data": {
      "application/vnd.jupyter.widget-view+json": {
       "model_id": "459c8f8f121742158ec6da12013c0651",
       "version_major": 2,
       "version_minor": 0
      },
      "text/plain": [
       "  0%|          | 0/5 [00:00<?, ?it/s]"
      ]
     },
     "metadata": {},
     "output_type": "display_data"
    },
    {
     "name": "stdout",
     "output_type": "stream",
     "text": [
      "NaN values filled.\n",
      "Making types...\n"
     ]
    },
    {
     "data": {
      "application/vnd.jupyter.widget-view+json": {
       "model_id": "ace512508f0844efbbb9f0d22ee87f99",
       "version_major": 2,
       "version_minor": 0
      },
      "text/plain": [
       "  0%|          | 0/2 [00:00<?, ?it/s]"
      ]
     },
     "metadata": {},
     "output_type": "display_data"
    },
    {
     "name": "stdout",
     "output_type": "stream",
     "text": [
      "Types made.\n",
      "Computing time...\n"
     ]
    },
    {
     "data": {
      "application/vnd.jupyter.widget-view+json": {
       "model_id": "d19963cd4f48457e8ee6cf99bd7740f0",
       "version_major": 2,
       "version_minor": 0
      },
      "text/plain": [
       "  0%|          | 0/6 [00:00<?, ?it/s]"
      ]
     },
     "metadata": {},
     "output_type": "display_data"
    },
    {
     "name": "stdout",
     "output_type": "stream",
     "text": [
      "Time computed.\n",
      "Computing duration...\n"
     ]
    },
    {
     "data": {
      "application/vnd.jupyter.widget-view+json": {
       "model_id": "8df7dd6c16e5457f992be5d94d87aca3",
       "version_major": 2,
       "version_minor": 0
      },
      "text/plain": [
       "  0%|          | 0/16 [00:00<?, ?it/s]"
      ]
     },
     "metadata": {},
     "output_type": "display_data"
    },
    {
     "name": "stdout",
     "output_type": "stream",
     "text": [
      "Duration computed.\n",
      "Processing done.\n"
     ]
    }
   ],
   "source": [
    "flightProc.process()"
   ]
  },
  {
   "cell_type": "markdown",
   "metadata": {},
   "source": [
    "# Overview of the Cleaned Dataset"
   ]
  },
  {
   "cell_type": "code",
   "execution_count": 56,
   "metadata": {},
   "outputs": [
    {
     "data": {
      "text/html": [
       "<div>\n",
       "<style scoped>\n",
       "    .dataframe tbody tr th:only-of-type {\n",
       "        vertical-align: middle;\n",
       "    }\n",
       "\n",
       "    .dataframe tbody tr th {\n",
       "        vertical-align: top;\n",
       "    }\n",
       "\n",
       "    .dataframe thead th {\n",
       "        text-align: right;\n",
       "    }\n",
       "</style>\n",
       "<table border=\"1\" class=\"dataframe\">\n",
       "  <thead>\n",
       "    <tr style=\"text-align: right;\">\n",
       "      <th></th>\n",
       "      <th>flight_date</th>\n",
       "      <th>airline_name</th>\n",
       "      <th>airline_code</th>\n",
       "      <th>flight_number</th>\n",
       "      <th>origin_airport</th>\n",
       "      <th>origin_city</th>\n",
       "      <th>destination_airport</th>\n",
       "      <th>destination_city</th>\n",
       "      <th>scheduled_departure_time</th>\n",
       "      <th>departure_time</th>\n",
       "      <th>...</th>\n",
       "      <th>is_diverted</th>\n",
       "      <th>scheduled_elapsed_time</th>\n",
       "      <th>elapsed_time</th>\n",
       "      <th>air_time</th>\n",
       "      <th>distance_in_miles</th>\n",
       "      <th>delay_due_to_carrier</th>\n",
       "      <th>delay_due_to_weather</th>\n",
       "      <th>delay_due_to_national_aviation_system</th>\n",
       "      <th>delay_due_to_security</th>\n",
       "      <th>delay_due_to_late_aircraft</th>\n",
       "    </tr>\n",
       "  </thead>\n",
       "  <tbody>\n",
       "    <tr>\n",
       "      <th>0</th>\n",
       "      <td>2019-01-09</td>\n",
       "      <td>United Air Lines Inc.</td>\n",
       "      <td>UA</td>\n",
       "      <td>1562</td>\n",
       "      <td>FLL</td>\n",
       "      <td>Fort Lauderdale, FL</td>\n",
       "      <td>EWR</td>\n",
       "      <td>Newark, NJ</td>\n",
       "      <td>11:55:00</td>\n",
       "      <td>11:51:00</td>\n",
       "      <td>...</td>\n",
       "      <td>False</td>\n",
       "      <td>186</td>\n",
       "      <td>176</td>\n",
       "      <td>153</td>\n",
       "      <td>1065</td>\n",
       "      <td>0</td>\n",
       "      <td>0</td>\n",
       "      <td>0</td>\n",
       "      <td>0</td>\n",
       "      <td>0</td>\n",
       "    </tr>\n",
       "    <tr>\n",
       "      <th>1</th>\n",
       "      <td>2022-11-19</td>\n",
       "      <td>Delta Air Lines Inc.</td>\n",
       "      <td>DL</td>\n",
       "      <td>1149</td>\n",
       "      <td>MSP</td>\n",
       "      <td>Minneapolis, MN</td>\n",
       "      <td>SEA</td>\n",
       "      <td>Seattle, WA</td>\n",
       "      <td>21:20:00</td>\n",
       "      <td>21:14:00</td>\n",
       "      <td>...</td>\n",
       "      <td>False</td>\n",
       "      <td>235</td>\n",
       "      <td>236</td>\n",
       "      <td>189</td>\n",
       "      <td>1399</td>\n",
       "      <td>0</td>\n",
       "      <td>0</td>\n",
       "      <td>0</td>\n",
       "      <td>0</td>\n",
       "      <td>0</td>\n",
       "    </tr>\n",
       "    <tr>\n",
       "      <th>2</th>\n",
       "      <td>2022-07-22</td>\n",
       "      <td>United Air Lines Inc.</td>\n",
       "      <td>UA</td>\n",
       "      <td>459</td>\n",
       "      <td>DEN</td>\n",
       "      <td>Denver, CO</td>\n",
       "      <td>MSP</td>\n",
       "      <td>Minneapolis, MN</td>\n",
       "      <td>09:54:00</td>\n",
       "      <td>10:00:00</td>\n",
       "      <td>...</td>\n",
       "      <td>False</td>\n",
       "      <td>118</td>\n",
       "      <td>112</td>\n",
       "      <td>87</td>\n",
       "      <td>680</td>\n",
       "      <td>0</td>\n",
       "      <td>0</td>\n",
       "      <td>0</td>\n",
       "      <td>0</td>\n",
       "      <td>0</td>\n",
       "    </tr>\n",
       "  </tbody>\n",
       "</table>\n",
       "<p>3 rows × 30 columns</p>\n",
       "</div>"
      ],
      "text/plain": [
       "  flight_date           airline_name airline_code  flight_number  \\\n",
       "0  2019-01-09  United Air Lines Inc.           UA           1562   \n",
       "1  2022-11-19   Delta Air Lines Inc.           DL           1149   \n",
       "2  2022-07-22  United Air Lines Inc.           UA            459   \n",
       "\n",
       "  origin_airport          origin_city destination_airport destination_city  \\\n",
       "0            FLL  Fort Lauderdale, FL                 EWR       Newark, NJ   \n",
       "1            MSP      Minneapolis, MN                 SEA      Seattle, WA   \n",
       "2            DEN           Denver, CO                 MSP  Minneapolis, MN   \n",
       "\n",
       "  scheduled_departure_time departure_time  ...  is_diverted  \\\n",
       "0                 11:55:00       11:51:00  ...        False   \n",
       "1                 21:20:00       21:14:00  ...        False   \n",
       "2                 09:54:00       10:00:00  ...        False   \n",
       "\n",
       "   scheduled_elapsed_time elapsed_time air_time  distance_in_miles  \\\n",
       "0                     186          176      153               1065   \n",
       "1                     235          236      189               1399   \n",
       "2                     118          112       87                680   \n",
       "\n",
       "  delay_due_to_carrier delay_due_to_weather  \\\n",
       "0                    0                    0   \n",
       "1                    0                    0   \n",
       "2                    0                    0   \n",
       "\n",
       "   delay_due_to_national_aviation_system  delay_due_to_security  \\\n",
       "0                                      0                      0   \n",
       "1                                      0                      0   \n",
       "2                                      0                      0   \n",
       "\n",
       "  delay_due_to_late_aircraft  \n",
       "0                          0  \n",
       "1                          0  \n",
       "2                          0  \n",
       "\n",
       "[3 rows x 30 columns]"
      ]
     },
     "execution_count": 56,
     "metadata": {},
     "output_type": "execute_result"
    }
   ],
   "source": [
    "flightProc.display_df(n=3)"
   ]
  },
  {
   "cell_type": "code",
   "execution_count": 57,
   "metadata": {},
   "outputs": [
    {
     "data": {
      "text/html": [
       "<pre style=\"white-space:pre;overflow-x:auto;line-height:normal;font-family:Menlo,'DejaVu Sans Mono',consolas,'Courier New',monospace\">╭──────────────────────────────────────────────── skimpy summary ─────────────────────────────────────────────────╮\n",
       "│ <span style=\"font-style: italic\">         Data Summary          </span> <span style=\"font-style: italic\">      Data Types       </span>                                                         │\n",
       "│ ┏━━━━━━━━━━━━━━━━━━━┳━━━━━━━━━┓ ┏━━━━━━━━━━━━━┳━━━━━━━┓                                                         │\n",
       "│ ┃<span style=\"color: #008080; text-decoration-color: #008080; font-weight: bold\"> dataframe         </span>┃<span style=\"color: #008080; text-decoration-color: #008080; font-weight: bold\"> Values  </span>┃ ┃<span style=\"color: #008080; text-decoration-color: #008080; font-weight: bold\"> Column Type </span>┃<span style=\"color: #008080; text-decoration-color: #008080; font-weight: bold\"> Count </span>┃                                                         │\n",
       "│ ┡━━━━━━━━━━━━━━━━━━━╇━━━━━━━━━┩ ┡━━━━━━━━━━━━━╇━━━━━━━┩                                                         │\n",
       "│ │ Number of rows    │ 3000000 │ │ int64       │ 14    │                                                         │\n",
       "│ │ Number of columns │ 25      │ │ string      │ 8     │                                                         │\n",
       "│ └───────────────────┴─────────┘ │ bool        │ 2     │                                                         │\n",
       "│                                 │ datetime64  │ 1     │                                                         │\n",
       "│                                 └─────────────┴───────┘                                                         │\n",
       "│ <span style=\"font-style: italic\">                                                    number                                                    </span>  │\n",
       "│ ┏━━━━━━━━━━━━━━━━━━━━━━━━━━━┳━━━━━┳━━━━━━━━┳━━━━━━━━━┳━━━━━━━┳━━━━━━┳━━━━━━━┳━━━━━━━┳━━━━━━━┳━━━━━━━┳━━━━━━━━┓  │\n",
       "│ ┃<span style=\"font-weight: bold\"> column_name               </span>┃<span style=\"font-weight: bold\"> NA  </span>┃<span style=\"font-weight: bold\"> NA %   </span>┃<span style=\"font-weight: bold\"> mean    </span>┃<span style=\"font-weight: bold\"> sd    </span>┃<span style=\"font-weight: bold\"> p0   </span>┃<span style=\"font-weight: bold\"> p25   </span>┃<span style=\"font-weight: bold\"> p50   </span>┃<span style=\"font-weight: bold\"> p75   </span>┃<span style=\"font-weight: bold\"> p100  </span>┃<span style=\"font-weight: bold\"> hist   </span>┃  │\n",
       "│ ┡━━━━━━━━━━━━━━━━━━━━━━━━━━━╇━━━━━╇━━━━━━━━╇━━━━━━━━━╇━━━━━━━╇━━━━━━╇━━━━━━━╇━━━━━━━╇━━━━━━━╇━━━━━━━╇━━━━━━━━┩  │\n",
       "│ │ <span style=\"color: #af87ff; text-decoration-color: #af87ff\">flight_number            </span> │ <span style=\"color: #008080; text-decoration-color: #008080\">  0</span> │ <span style=\"color: #008080; text-decoration-color: #008080\">     0</span> │ <span style=\"color: #008080; text-decoration-color: #008080\">   2500</span> │ <span style=\"color: #008080; text-decoration-color: #008080\"> 1700</span> │ <span style=\"color: #008080; text-decoration-color: #008080\">   1</span> │ <span style=\"color: #008080; text-decoration-color: #008080\"> 1100</span> │ <span style=\"color: #008080; text-decoration-color: #008080\"> 2200</span> │ <span style=\"color: #008080; text-decoration-color: #008080\"> 3800</span> │ <span style=\"color: #008080; text-decoration-color: #008080\"> 9600</span> │ <span style=\"color: #008000; text-decoration-color: #008000\"> ▇▆▃▃ </span> │  │\n",
       "│ │ <span style=\"color: #af87ff; text-decoration-color: #af87ff\">departure_delay          </span> │ <span style=\"color: #008080; text-decoration-color: #008080\">  0</span> │ <span style=\"color: #008080; text-decoration-color: #008080\">     0</span> │ <span style=\"color: #008080; text-decoration-color: #008080\">    9.9</span> │ <span style=\"color: #008080; text-decoration-color: #008080\">   49</span> │ <span style=\"color: #008080; text-decoration-color: #008080\"> -90</span> │ <span style=\"color: #008080; text-decoration-color: #008080\">   -6</span> │ <span style=\"color: #008080; text-decoration-color: #008080\">   -2</span> │ <span style=\"color: #008080; text-decoration-color: #008080\">    6</span> │ <span style=\"color: #008080; text-decoration-color: #008080\"> 3000</span> │ <span style=\"color: #008000; text-decoration-color: #008000\">  ▇   </span> │  │\n",
       "│ │ <span style=\"color: #af87ff; text-decoration-color: #af87ff\">taxi_out                 </span> │ <span style=\"color: #008080; text-decoration-color: #008080\">  0</span> │ <span style=\"color: #008080; text-decoration-color: #008080\">     0</span> │ <span style=\"color: #008080; text-decoration-color: #008080\">     16</span> │ <span style=\"color: #008080; text-decoration-color: #008080\">  9.5</span> │ <span style=\"color: #008080; text-decoration-color: #008080\">   0</span> │ <span style=\"color: #008080; text-decoration-color: #008080\">   11</span> │ <span style=\"color: #008080; text-decoration-color: #008080\">   14</span> │ <span style=\"color: #008080; text-decoration-color: #008080\">   19</span> │ <span style=\"color: #008080; text-decoration-color: #008080\">  180</span> │ <span style=\"color: #008000; text-decoration-color: #008000\">  ▇   </span> │  │\n",
       "│ │ <span style=\"color: #af87ff; text-decoration-color: #af87ff\">taxi_in                  </span> │ <span style=\"color: #008080; text-decoration-color: #008080\">  0</span> │ <span style=\"color: #008080; text-decoration-color: #008080\">     0</span> │ <span style=\"color: #008080; text-decoration-color: #008080\">    7.5</span> │ <span style=\"color: #008080; text-decoration-color: #008080\">  6.3</span> │ <span style=\"color: #008080; text-decoration-color: #008080\">   0</span> │ <span style=\"color: #008080; text-decoration-color: #008080\">    4</span> │ <span style=\"color: #008080; text-decoration-color: #008080\">    6</span> │ <span style=\"color: #008080; text-decoration-color: #008080\">    9</span> │ <span style=\"color: #008080; text-decoration-color: #008080\">  250</span> │ <span style=\"color: #008000; text-decoration-color: #008000\">  ▇   </span> │  │\n",
       "│ │ <span style=\"color: #af87ff; text-decoration-color: #af87ff\">arrival_delay            </span> │ <span style=\"color: #008080; text-decoration-color: #008080\">  0</span> │ <span style=\"color: #008080; text-decoration-color: #008080\">     0</span> │ <span style=\"color: #008080; text-decoration-color: #008080\">    4.1</span> │ <span style=\"color: #008080; text-decoration-color: #008080\">   50</span> │ <span style=\"color: #008080; text-decoration-color: #008080\"> -96</span> │ <span style=\"color: #008080; text-decoration-color: #008080\">  -15</span> │ <span style=\"color: #008080; text-decoration-color: #008080\">   -6</span> │ <span style=\"color: #008080; text-decoration-color: #008080\">    6</span> │ <span style=\"color: #008080; text-decoration-color: #008080\"> 2900</span> │ <span style=\"color: #008000; text-decoration-color: #008000\">  ▇   </span> │  │\n",
       "│ │ <span style=\"color: #af87ff; text-decoration-color: #af87ff\">scheduled_elapsed_time   </span> │ <span style=\"color: #008080; text-decoration-color: #008080\">  0</span> │ <span style=\"color: #008080; text-decoration-color: #008080\">     0</span> │ <span style=\"color: #008080; text-decoration-color: #008080\">    140</span> │ <span style=\"color: #008080; text-decoration-color: #008080\">   72</span> │ <span style=\"color: #008080; text-decoration-color: #008080\">   0</span> │ <span style=\"color: #008080; text-decoration-color: #008080\">   90</span> │ <span style=\"color: #008080; text-decoration-color: #008080\">  120</span> │ <span style=\"color: #008080; text-decoration-color: #008080\">  170</span> │ <span style=\"color: #008080; text-decoration-color: #008080\">  700</span> │ <span style=\"color: #008000; text-decoration-color: #008000\"> ▇▇▂  </span> │  │\n",
       "│ │ <span style=\"color: #af87ff; text-decoration-color: #af87ff\">elapsed_time             </span> │ <span style=\"color: #008080; text-decoration-color: #008080\">  0</span> │ <span style=\"color: #008080; text-decoration-color: #008080\">     0</span> │ <span style=\"color: #008080; text-decoration-color: #008080\">    130</span> │ <span style=\"color: #008080; text-decoration-color: #008080\">   74</span> │ <span style=\"color: #008080; text-decoration-color: #008080\">   0</span> │ <span style=\"color: #008080; text-decoration-color: #008080\">   81</span> │ <span style=\"color: #008080; text-decoration-color: #008080\">  120</span> │ <span style=\"color: #008080; text-decoration-color: #008080\">  170</span> │ <span style=\"color: #008080; text-decoration-color: #008080\">  740</span> │ <span style=\"color: #008000; text-decoration-color: #008000\"> ▇▆▁  </span> │  │\n",
       "│ │ <span style=\"color: #af87ff; text-decoration-color: #af87ff\">air_time                 </span> │ <span style=\"color: #008080; text-decoration-color: #008080\">  0</span> │ <span style=\"color: #008080; text-decoration-color: #008080\">     0</span> │ <span style=\"color: #008080; text-decoration-color: #008080\">    110</span> │ <span style=\"color: #008080; text-decoration-color: #008080\">   71</span> │ <span style=\"color: #008080; text-decoration-color: #008080\">   0</span> │ <span style=\"color: #008080; text-decoration-color: #008080\">   59</span> │ <span style=\"color: #008080; text-decoration-color: #008080\">   93</span> │ <span style=\"color: #008080; text-decoration-color: #008080\">  140</span> │ <span style=\"color: #008080; text-decoration-color: #008080\">  690</span> │ <span style=\"color: #008000; text-decoration-color: #008000\"> ▇▃▁  </span> │  │\n",
       "│ │ <span style=\"color: #af87ff; text-decoration-color: #af87ff\">distance_in_miles        </span> │ <span style=\"color: #008080; text-decoration-color: #008080\">  0</span> │ <span style=\"color: #008080; text-decoration-color: #008080\">     0</span> │ <span style=\"color: #008080; text-decoration-color: #008080\">    810</span> │ <span style=\"color: #008080; text-decoration-color: #008080\">  590</span> │ <span style=\"color: #008080; text-decoration-color: #008080\">  29</span> │ <span style=\"color: #008080; text-decoration-color: #008080\">  380</span> │ <span style=\"color: #008080; text-decoration-color: #008080\">  650</span> │ <span style=\"color: #008080; text-decoration-color: #008080\"> 1000</span> │ <span style=\"color: #008080; text-decoration-color: #008080\"> 5800</span> │ <span style=\"color: #008000; text-decoration-color: #008000\"> ▇▂▁  </span> │  │\n",
       "│ │ <span style=\"color: #af87ff; text-decoration-color: #af87ff\">delay_due_to_carrier     </span> │ <span style=\"color: #008080; text-decoration-color: #008080\">  0</span> │ <span style=\"color: #008080; text-decoration-color: #008080\">     0</span> │ <span style=\"color: #008080; text-decoration-color: #008080\">    4.4</span> │ <span style=\"color: #008080; text-decoration-color: #008080\">   32</span> │ <span style=\"color: #008080; text-decoration-color: #008080\">   0</span> │ <span style=\"color: #008080; text-decoration-color: #008080\">    0</span> │ <span style=\"color: #008080; text-decoration-color: #008080\">    0</span> │ <span style=\"color: #008080; text-decoration-color: #008080\">    0</span> │ <span style=\"color: #008080; text-decoration-color: #008080\"> 2900</span> │ <span style=\"color: #008000; text-decoration-color: #008000\">  ▇   </span> │  │\n",
       "│ │ <span style=\"color: #af87ff; text-decoration-color: #af87ff\">delay_due_to_weather     </span> │ <span style=\"color: #008080; text-decoration-color: #008080\">  0</span> │ <span style=\"color: #008080; text-decoration-color: #008080\">     0</span> │ <span style=\"color: #008080; text-decoration-color: #008080\">   0.71</span> │ <span style=\"color: #008080; text-decoration-color: #008080\">   14</span> │ <span style=\"color: #008080; text-decoration-color: #008080\">   0</span> │ <span style=\"color: #008080; text-decoration-color: #008080\">    0</span> │ <span style=\"color: #008080; text-decoration-color: #008080\">    0</span> │ <span style=\"color: #008080; text-decoration-color: #008080\">    0</span> │ <span style=\"color: #008080; text-decoration-color: #008080\"> 1700</span> │ <span style=\"color: #008000; text-decoration-color: #008000\">  ▇   </span> │  │\n",
       "│ │ <span style=\"color: #af87ff; text-decoration-color: #af87ff\">delay_due_to_national_avi</span> │ <span style=\"color: #008080; text-decoration-color: #008080\">  0</span> │ <span style=\"color: #008080; text-decoration-color: #008080\">     0</span> │ <span style=\"color: #008080; text-decoration-color: #008080\">    2.3</span> │ <span style=\"color: #008080; text-decoration-color: #008080\">   15</span> │ <span style=\"color: #008080; text-decoration-color: #008080\">   0</span> │ <span style=\"color: #008080; text-decoration-color: #008080\">    0</span> │ <span style=\"color: #008080; text-decoration-color: #008080\">    0</span> │ <span style=\"color: #008080; text-decoration-color: #008080\">    0</span> │ <span style=\"color: #008080; text-decoration-color: #008080\"> 1700</span> │ <span style=\"color: #008000; text-decoration-color: #008000\">  ▇   </span> │  │\n",
       "│ │ <span style=\"color: #af87ff; text-decoration-color: #af87ff\">ation_system             </span> │     │        │         │       │      │       │       │       │       │        │  │\n",
       "│ │ <span style=\"color: #af87ff; text-decoration-color: #af87ff\">delay_due_to_security    </span> │ <span style=\"color: #008080; text-decoration-color: #008080\">  0</span> │ <span style=\"color: #008080; text-decoration-color: #008080\">     0</span> │ <span style=\"color: #008080; text-decoration-color: #008080\">  0.026</span> │ <span style=\"color: #008080; text-decoration-color: #008080\">  1.5</span> │ <span style=\"color: #008080; text-decoration-color: #008080\">   0</span> │ <span style=\"color: #008080; text-decoration-color: #008080\">    0</span> │ <span style=\"color: #008080; text-decoration-color: #008080\">    0</span> │ <span style=\"color: #008080; text-decoration-color: #008080\">    0</span> │ <span style=\"color: #008080; text-decoration-color: #008080\"> 1200</span> │ <span style=\"color: #008000; text-decoration-color: #008000\">  ▇   </span> │  │\n",
       "│ │ <span style=\"color: #af87ff; text-decoration-color: #af87ff\">delay_due_to_late_aircraf</span> │ <span style=\"color: #008080; text-decoration-color: #008080\">  0</span> │ <span style=\"color: #008080; text-decoration-color: #008080\">     0</span> │ <span style=\"color: #008080; text-decoration-color: #008080\">    4.5</span> │ <span style=\"color: #008080; text-decoration-color: #008080\">   25</span> │ <span style=\"color: #008080; text-decoration-color: #008080\">   0</span> │ <span style=\"color: #008080; text-decoration-color: #008080\">    0</span> │ <span style=\"color: #008080; text-decoration-color: #008080\">    0</span> │ <span style=\"color: #008080; text-decoration-color: #008080\">    0</span> │ <span style=\"color: #008080; text-decoration-color: #008080\"> 2600</span> │ <span style=\"color: #008000; text-decoration-color: #008000\">  ▇   </span> │  │\n",
       "│ │ <span style=\"color: #af87ff; text-decoration-color: #af87ff\">t                        </span> │     │        │         │       │      │       │       │       │       │        │  │\n",
       "│ └───────────────────────────┴─────┴────────┴─────────┴───────┴──────┴───────┴───────┴───────┴───────┴────────┘  │\n",
       "│ <span style=\"font-style: italic\">                                                     bool                                                     </span>  │\n",
       "│ ┏━━━━━━━━━━━━━━━━━━━━━━━━━━━━━━━━━━━━━┳━━━━━━━━━━━━━━━━━━━┳━━━━━━━━━━━━━━━━━━━━━━━━━━━━━┳━━━━━━━━━━━━━━━━━━━━┓  │\n",
       "│ ┃<span style=\"font-weight: bold\"> column_name                         </span>┃<span style=\"font-weight: bold\"> true              </span>┃<span style=\"font-weight: bold\"> true rate                   </span>┃<span style=\"font-weight: bold\"> hist               </span>┃  │\n",
       "│ ┡━━━━━━━━━━━━━━━━━━━━━━━━━━━━━━━━━━━━━╇━━━━━━━━━━━━━━━━━━━╇━━━━━━━━━━━━━━━━━━━━━━━━━━━━━╇━━━━━━━━━━━━━━━━━━━━┩  │\n",
       "│ │ <span style=\"color: #af87ff; text-decoration-color: #af87ff\">is_cancelled                       </span> │ <span style=\"color: #008080; text-decoration-color: #008080\">            79140</span> │ <span style=\"color: #008080; text-decoration-color: #008080\">                      0.026</span> │ <span style=\"color: #008000; text-decoration-color: #008000\">        ▇         </span> │  │\n",
       "│ │ <span style=\"color: #af87ff; text-decoration-color: #af87ff\">is_diverted                        </span> │ <span style=\"color: #008080; text-decoration-color: #008080\">             7056</span> │ <span style=\"color: #008080; text-decoration-color: #008080\">                     0.0024</span> │ <span style=\"color: #008000; text-decoration-color: #008000\">        ▇         </span> │  │\n",
       "│ └─────────────────────────────────────┴───────────────────┴─────────────────────────────┴────────────────────┘  │\n",
       "│ <span style=\"font-style: italic\">                                                   datetime                                                   </span>  │\n",
       "│ ┏━━━━━━━━━━━━━━━━━━━━━━━━┳━━━━━━━━┳━━━━━━━━━━━┳━━━━━━━━━━━━━━━━━━━━━┳━━━━━━━━━━━━━━━━━━━━━┳━━━━━━━━━━━━━━━━━━┓  │\n",
       "│ ┃<span style=\"font-weight: bold\"> column_name            </span>┃<span style=\"font-weight: bold\"> NA     </span>┃<span style=\"font-weight: bold\"> NA %      </span>┃<span style=\"font-weight: bold\"> first               </span>┃<span style=\"font-weight: bold\"> last                </span>┃<span style=\"font-weight: bold\"> frequency        </span>┃  │\n",
       "│ ┡━━━━━━━━━━━━━━━━━━━━━━━━╇━━━━━━━━╇━━━━━━━━━━━╇━━━━━━━━━━━━━━━━━━━━━╇━━━━━━━━━━━━━━━━━━━━━╇━━━━━━━━━━━━━━━━━━┩  │\n",
       "│ │ <span style=\"color: #af87ff; text-decoration-color: #af87ff\">flight_date           </span> │ <span style=\"color: #008080; text-decoration-color: #008080\">     0</span> │ <span style=\"color: #008080; text-decoration-color: #008080\">        0</span> │ <span style=\"color: #800000; text-decoration-color: #800000\">    2019-01-01     </span> │ <span style=\"color: #800000; text-decoration-color: #800000\">    2023-08-31     </span> │ <span style=\"color: #af87ff; text-decoration-color: #af87ff\">None            </span> │  │\n",
       "│ └────────────────────────┴────────┴───────────┴─────────────────────┴─────────────────────┴──────────────────┘  │\n",
       "│ <span style=\"font-style: italic\">                                                    string                                                    </span>  │\n",
       "│ ┏━━━━━━━━━━━━━━━━━━━━━━━━━━━━━━━━━━━┳━━━━━━━━━━━━━━━┳━━━━━━━━━━━┳━━━━━━━━━━━━━━━━━━━━━━━━┳━━━━━━━━━━━━━━━━━━━┓  │\n",
       "│ ┃<span style=\"font-weight: bold\"> column_name                       </span>┃<span style=\"font-weight: bold\"> NA            </span>┃<span style=\"font-weight: bold\"> NA %      </span>┃<span style=\"font-weight: bold\"> words per row          </span>┃<span style=\"font-weight: bold\"> total words       </span>┃  │\n",
       "│ ┡━━━━━━━━━━━━━━━━━━━━━━━━━━━━━━━━━━━╇━━━━━━━━━━━━━━━╇━━━━━━━━━━━╇━━━━━━━━━━━━━━━━━━━━━━━━╇━━━━━━━━━━━━━━━━━━━┩  │\n",
       "│ │ <span style=\"color: #af87ff; text-decoration-color: #af87ff\">airline_name                     </span> │ <span style=\"color: #008080; text-decoration-color: #008080\">            0</span> │ <span style=\"color: #008080; text-decoration-color: #008080\">        0</span> │ <span style=\"color: #008080; text-decoration-color: #008080\">                   3.1</span> │ <span style=\"color: #008080; text-decoration-color: #008080\">          9237328</span> │  │\n",
       "│ │ <span style=\"color: #af87ff; text-decoration-color: #af87ff\">airline_code                     </span> │ <span style=\"color: #008080; text-decoration-color: #008080\">            0</span> │ <span style=\"color: #008080; text-decoration-color: #008080\">        0</span> │ <span style=\"color: #008080; text-decoration-color: #008080\">                     1</span> │ <span style=\"color: #008080; text-decoration-color: #008080\">          3000000</span> │  │\n",
       "│ │ <span style=\"color: #af87ff; text-decoration-color: #af87ff\">origin_airport                   </span> │ <span style=\"color: #008080; text-decoration-color: #008080\">            0</span> │ <span style=\"color: #008080; text-decoration-color: #008080\">        0</span> │ <span style=\"color: #008080; text-decoration-color: #008080\">                     1</span> │ <span style=\"color: #008080; text-decoration-color: #008080\">          3000000</span> │  │\n",
       "│ │ <span style=\"color: #af87ff; text-decoration-color: #af87ff\">origin_city                      </span> │ <span style=\"color: #008080; text-decoration-color: #008080\">            0</span> │ <span style=\"color: #008080; text-decoration-color: #008080\">        0</span> │ <span style=\"color: #008080; text-decoration-color: #008080\">                   2.3</span> │ <span style=\"color: #008080; text-decoration-color: #008080\">          6983475</span> │  │\n",
       "│ │ <span style=\"color: #af87ff; text-decoration-color: #af87ff\">destination_airport              </span> │ <span style=\"color: #008080; text-decoration-color: #008080\">            0</span> │ <span style=\"color: #008080; text-decoration-color: #008080\">        0</span> │ <span style=\"color: #008080; text-decoration-color: #008080\">                     1</span> │ <span style=\"color: #008080; text-decoration-color: #008080\">          3000000</span> │  │\n",
       "│ │ <span style=\"color: #af87ff; text-decoration-color: #af87ff\">destination_city                 </span> │ <span style=\"color: #008080; text-decoration-color: #008080\">            0</span> │ <span style=\"color: #008080; text-decoration-color: #008080\">        0</span> │ <span style=\"color: #008080; text-decoration-color: #008080\">                   2.3</span> │ <span style=\"color: #008080; text-decoration-color: #008080\">          6981389</span> │  │\n",
       "│ │ <span style=\"color: #af87ff; text-decoration-color: #af87ff\">scheduled_departure_time         </span> │ <span style=\"color: #008080; text-decoration-color: #008080\">            0</span> │ <span style=\"color: #008080; text-decoration-color: #008080\">        0</span> │ <span style=\"color: #008080; text-decoration-color: #008080\">                     1</span> │ <span style=\"color: #008080; text-decoration-color: #008080\">          3000000</span> │  │\n",
       "│ │ <span style=\"color: #af87ff; text-decoration-color: #af87ff\">cancellation_code                </span> │ <span style=\"color: #008080; text-decoration-color: #008080\">      2920860</span> │ <span style=\"color: #008080; text-decoration-color: #008080\">    97.36</span> │ <span style=\"color: #008080; text-decoration-color: #008080\">                 0.026</span> │ <span style=\"color: #008080; text-decoration-color: #008080\">            79140</span> │  │\n",
       "│ └───────────────────────────────────┴───────────────┴───────────┴────────────────────────┴───────────────────┘  │\n",
       "╰────────────────────────────────────────────────────── End ──────────────────────────────────────────────────────╯\n",
       "</pre>\n"
      ],
      "text/plain": [
       "╭──────────────────────────────────────────────── skimpy summary ─────────────────────────────────────────────────╮\n",
       "│ \u001b[3m         Data Summary          \u001b[0m \u001b[3m      Data Types       \u001b[0m                                                         │\n",
       "│ ┏━━━━━━━━━━━━━━━━━━━┳━━━━━━━━━┓ ┏━━━━━━━━━━━━━┳━━━━━━━┓                                                         │\n",
       "│ ┃\u001b[1;36m \u001b[0m\u001b[1;36mdataframe        \u001b[0m\u001b[1;36m \u001b[0m┃\u001b[1;36m \u001b[0m\u001b[1;36mValues \u001b[0m\u001b[1;36m \u001b[0m┃ ┃\u001b[1;36m \u001b[0m\u001b[1;36mColumn Type\u001b[0m\u001b[1;36m \u001b[0m┃\u001b[1;36m \u001b[0m\u001b[1;36mCount\u001b[0m\u001b[1;36m \u001b[0m┃                                                         │\n",
       "│ ┡━━━━━━━━━━━━━━━━━━━╇━━━━━━━━━┩ ┡━━━━━━━━━━━━━╇━━━━━━━┩                                                         │\n",
       "│ │ Number of rows    │ 3000000 │ │ int64       │ 14    │                                                         │\n",
       "│ │ Number of columns │ 25      │ │ string      │ 8     │                                                         │\n",
       "│ └───────────────────┴─────────┘ │ bool        │ 2     │                                                         │\n",
       "│                                 │ datetime64  │ 1     │                                                         │\n",
       "│                                 └─────────────┴───────┘                                                         │\n",
       "│ \u001b[3m                                                    number                                                    \u001b[0m  │\n",
       "│ ┏━━━━━━━━━━━━━━━━━━━━━━━━━━━┳━━━━━┳━━━━━━━━┳━━━━━━━━━┳━━━━━━━┳━━━━━━┳━━━━━━━┳━━━━━━━┳━━━━━━━┳━━━━━━━┳━━━━━━━━┓  │\n",
       "│ ┃\u001b[1m \u001b[0m\u001b[1mcolumn_name              \u001b[0m\u001b[1m \u001b[0m┃\u001b[1m \u001b[0m\u001b[1mNA \u001b[0m\u001b[1m \u001b[0m┃\u001b[1m \u001b[0m\u001b[1mNA %  \u001b[0m\u001b[1m \u001b[0m┃\u001b[1m \u001b[0m\u001b[1mmean   \u001b[0m\u001b[1m \u001b[0m┃\u001b[1m \u001b[0m\u001b[1msd   \u001b[0m\u001b[1m \u001b[0m┃\u001b[1m \u001b[0m\u001b[1mp0  \u001b[0m\u001b[1m \u001b[0m┃\u001b[1m \u001b[0m\u001b[1mp25  \u001b[0m\u001b[1m \u001b[0m┃\u001b[1m \u001b[0m\u001b[1mp50  \u001b[0m\u001b[1m \u001b[0m┃\u001b[1m \u001b[0m\u001b[1mp75  \u001b[0m\u001b[1m \u001b[0m┃\u001b[1m \u001b[0m\u001b[1mp100 \u001b[0m\u001b[1m \u001b[0m┃\u001b[1m \u001b[0m\u001b[1mhist  \u001b[0m\u001b[1m \u001b[0m┃  │\n",
       "│ ┡━━━━━━━━━━━━━━━━━━━━━━━━━━━╇━━━━━╇━━━━━━━━╇━━━━━━━━━╇━━━━━━━╇━━━━━━╇━━━━━━━╇━━━━━━━╇━━━━━━━╇━━━━━━━╇━━━━━━━━┩  │\n",
       "│ │ \u001b[38;5;141mflight_number            \u001b[0m │ \u001b[36m  0\u001b[0m │ \u001b[36m     0\u001b[0m │ \u001b[36m   2500\u001b[0m │ \u001b[36m 1700\u001b[0m │ \u001b[36m   1\u001b[0m │ \u001b[36m 1100\u001b[0m │ \u001b[36m 2200\u001b[0m │ \u001b[36m 3800\u001b[0m │ \u001b[36m 9600\u001b[0m │ \u001b[32m ▇▆▃▃ \u001b[0m │  │\n",
       "│ │ \u001b[38;5;141mdeparture_delay          \u001b[0m │ \u001b[36m  0\u001b[0m │ \u001b[36m     0\u001b[0m │ \u001b[36m    9.9\u001b[0m │ \u001b[36m   49\u001b[0m │ \u001b[36m -90\u001b[0m │ \u001b[36m   -6\u001b[0m │ \u001b[36m   -2\u001b[0m │ \u001b[36m    6\u001b[0m │ \u001b[36m 3000\u001b[0m │ \u001b[32m  ▇   \u001b[0m │  │\n",
       "│ │ \u001b[38;5;141mtaxi_out                 \u001b[0m │ \u001b[36m  0\u001b[0m │ \u001b[36m     0\u001b[0m │ \u001b[36m     16\u001b[0m │ \u001b[36m  9.5\u001b[0m │ \u001b[36m   0\u001b[0m │ \u001b[36m   11\u001b[0m │ \u001b[36m   14\u001b[0m │ \u001b[36m   19\u001b[0m │ \u001b[36m  180\u001b[0m │ \u001b[32m  ▇   \u001b[0m │  │\n",
       "│ │ \u001b[38;5;141mtaxi_in                  \u001b[0m │ \u001b[36m  0\u001b[0m │ \u001b[36m     0\u001b[0m │ \u001b[36m    7.5\u001b[0m │ \u001b[36m  6.3\u001b[0m │ \u001b[36m   0\u001b[0m │ \u001b[36m    4\u001b[0m │ \u001b[36m    6\u001b[0m │ \u001b[36m    9\u001b[0m │ \u001b[36m  250\u001b[0m │ \u001b[32m  ▇   \u001b[0m │  │\n",
       "│ │ \u001b[38;5;141marrival_delay            \u001b[0m │ \u001b[36m  0\u001b[0m │ \u001b[36m     0\u001b[0m │ \u001b[36m    4.1\u001b[0m │ \u001b[36m   50\u001b[0m │ \u001b[36m -96\u001b[0m │ \u001b[36m  -15\u001b[0m │ \u001b[36m   -6\u001b[0m │ \u001b[36m    6\u001b[0m │ \u001b[36m 2900\u001b[0m │ \u001b[32m  ▇   \u001b[0m │  │\n",
       "│ │ \u001b[38;5;141mscheduled_elapsed_time   \u001b[0m │ \u001b[36m  0\u001b[0m │ \u001b[36m     0\u001b[0m │ \u001b[36m    140\u001b[0m │ \u001b[36m   72\u001b[0m │ \u001b[36m   0\u001b[0m │ \u001b[36m   90\u001b[0m │ \u001b[36m  120\u001b[0m │ \u001b[36m  170\u001b[0m │ \u001b[36m  700\u001b[0m │ \u001b[32m ▇▇▂  \u001b[0m │  │\n",
       "│ │ \u001b[38;5;141melapsed_time             \u001b[0m │ \u001b[36m  0\u001b[0m │ \u001b[36m     0\u001b[0m │ \u001b[36m    130\u001b[0m │ \u001b[36m   74\u001b[0m │ \u001b[36m   0\u001b[0m │ \u001b[36m   81\u001b[0m │ \u001b[36m  120\u001b[0m │ \u001b[36m  170\u001b[0m │ \u001b[36m  740\u001b[0m │ \u001b[32m ▇▆▁  \u001b[0m │  │\n",
       "│ │ \u001b[38;5;141mair_time                 \u001b[0m │ \u001b[36m  0\u001b[0m │ \u001b[36m     0\u001b[0m │ \u001b[36m    110\u001b[0m │ \u001b[36m   71\u001b[0m │ \u001b[36m   0\u001b[0m │ \u001b[36m   59\u001b[0m │ \u001b[36m   93\u001b[0m │ \u001b[36m  140\u001b[0m │ \u001b[36m  690\u001b[0m │ \u001b[32m ▇▃▁  \u001b[0m │  │\n",
       "│ │ \u001b[38;5;141mdistance_in_miles        \u001b[0m │ \u001b[36m  0\u001b[0m │ \u001b[36m     0\u001b[0m │ \u001b[36m    810\u001b[0m │ \u001b[36m  590\u001b[0m │ \u001b[36m  29\u001b[0m │ \u001b[36m  380\u001b[0m │ \u001b[36m  650\u001b[0m │ \u001b[36m 1000\u001b[0m │ \u001b[36m 5800\u001b[0m │ \u001b[32m ▇▂▁  \u001b[0m │  │\n",
       "│ │ \u001b[38;5;141mdelay_due_to_carrier     \u001b[0m │ \u001b[36m  0\u001b[0m │ \u001b[36m     0\u001b[0m │ \u001b[36m    4.4\u001b[0m │ \u001b[36m   32\u001b[0m │ \u001b[36m   0\u001b[0m │ \u001b[36m    0\u001b[0m │ \u001b[36m    0\u001b[0m │ \u001b[36m    0\u001b[0m │ \u001b[36m 2900\u001b[0m │ \u001b[32m  ▇   \u001b[0m │  │\n",
       "│ │ \u001b[38;5;141mdelay_due_to_weather     \u001b[0m │ \u001b[36m  0\u001b[0m │ \u001b[36m     0\u001b[0m │ \u001b[36m   0.71\u001b[0m │ \u001b[36m   14\u001b[0m │ \u001b[36m   0\u001b[0m │ \u001b[36m    0\u001b[0m │ \u001b[36m    0\u001b[0m │ \u001b[36m    0\u001b[0m │ \u001b[36m 1700\u001b[0m │ \u001b[32m  ▇   \u001b[0m │  │\n",
       "│ │ \u001b[38;5;141mdelay_due_to_national_avi\u001b[0m │ \u001b[36m  0\u001b[0m │ \u001b[36m     0\u001b[0m │ \u001b[36m    2.3\u001b[0m │ \u001b[36m   15\u001b[0m │ \u001b[36m   0\u001b[0m │ \u001b[36m    0\u001b[0m │ \u001b[36m    0\u001b[0m │ \u001b[36m    0\u001b[0m │ \u001b[36m 1700\u001b[0m │ \u001b[32m  ▇   \u001b[0m │  │\n",
       "│ │ \u001b[38;5;141mation_system             \u001b[0m │     │        │         │       │      │       │       │       │       │        │  │\n",
       "│ │ \u001b[38;5;141mdelay_due_to_security    \u001b[0m │ \u001b[36m  0\u001b[0m │ \u001b[36m     0\u001b[0m │ \u001b[36m  0.026\u001b[0m │ \u001b[36m  1.5\u001b[0m │ \u001b[36m   0\u001b[0m │ \u001b[36m    0\u001b[0m │ \u001b[36m    0\u001b[0m │ \u001b[36m    0\u001b[0m │ \u001b[36m 1200\u001b[0m │ \u001b[32m  ▇   \u001b[0m │  │\n",
       "│ │ \u001b[38;5;141mdelay_due_to_late_aircraf\u001b[0m │ \u001b[36m  0\u001b[0m │ \u001b[36m     0\u001b[0m │ \u001b[36m    4.5\u001b[0m │ \u001b[36m   25\u001b[0m │ \u001b[36m   0\u001b[0m │ \u001b[36m    0\u001b[0m │ \u001b[36m    0\u001b[0m │ \u001b[36m    0\u001b[0m │ \u001b[36m 2600\u001b[0m │ \u001b[32m  ▇   \u001b[0m │  │\n",
       "│ │ \u001b[38;5;141mt                        \u001b[0m │     │        │         │       │      │       │       │       │       │        │  │\n",
       "│ └───────────────────────────┴─────┴────────┴─────────┴───────┴──────┴───────┴───────┴───────┴───────┴────────┘  │\n",
       "│ \u001b[3m                                                     bool                                                     \u001b[0m  │\n",
       "│ ┏━━━━━━━━━━━━━━━━━━━━━━━━━━━━━━━━━━━━━┳━━━━━━━━━━━━━━━━━━━┳━━━━━━━━━━━━━━━━━━━━━━━━━━━━━┳━━━━━━━━━━━━━━━━━━━━┓  │\n",
       "│ ┃\u001b[1m \u001b[0m\u001b[1mcolumn_name                        \u001b[0m\u001b[1m \u001b[0m┃\u001b[1m \u001b[0m\u001b[1mtrue             \u001b[0m\u001b[1m \u001b[0m┃\u001b[1m \u001b[0m\u001b[1mtrue rate                  \u001b[0m\u001b[1m \u001b[0m┃\u001b[1m \u001b[0m\u001b[1mhist              \u001b[0m\u001b[1m \u001b[0m┃  │\n",
       "│ ┡━━━━━━━━━━━━━━━━━━━━━━━━━━━━━━━━━━━━━╇━━━━━━━━━━━━━━━━━━━╇━━━━━━━━━━━━━━━━━━━━━━━━━━━━━╇━━━━━━━━━━━━━━━━━━━━┩  │\n",
       "│ │ \u001b[38;5;141mis_cancelled                       \u001b[0m │ \u001b[36m            79140\u001b[0m │ \u001b[36m                      0.026\u001b[0m │ \u001b[32m        ▇         \u001b[0m │  │\n",
       "│ │ \u001b[38;5;141mis_diverted                        \u001b[0m │ \u001b[36m             7056\u001b[0m │ \u001b[36m                     0.0024\u001b[0m │ \u001b[32m        ▇         \u001b[0m │  │\n",
       "│ └─────────────────────────────────────┴───────────────────┴─────────────────────────────┴────────────────────┘  │\n",
       "│ \u001b[3m                                                   datetime                                                   \u001b[0m  │\n",
       "│ ┏━━━━━━━━━━━━━━━━━━━━━━━━┳━━━━━━━━┳━━━━━━━━━━━┳━━━━━━━━━━━━━━━━━━━━━┳━━━━━━━━━━━━━━━━━━━━━┳━━━━━━━━━━━━━━━━━━┓  │\n",
       "│ ┃\u001b[1m \u001b[0m\u001b[1mcolumn_name           \u001b[0m\u001b[1m \u001b[0m┃\u001b[1m \u001b[0m\u001b[1mNA    \u001b[0m\u001b[1m \u001b[0m┃\u001b[1m \u001b[0m\u001b[1mNA %     \u001b[0m\u001b[1m \u001b[0m┃\u001b[1m \u001b[0m\u001b[1mfirst              \u001b[0m\u001b[1m \u001b[0m┃\u001b[1m \u001b[0m\u001b[1mlast               \u001b[0m\u001b[1m \u001b[0m┃\u001b[1m \u001b[0m\u001b[1mfrequency       \u001b[0m\u001b[1m \u001b[0m┃  │\n",
       "│ ┡━━━━━━━━━━━━━━━━━━━━━━━━╇━━━━━━━━╇━━━━━━━━━━━╇━━━━━━━━━━━━━━━━━━━━━╇━━━━━━━━━━━━━━━━━━━━━╇━━━━━━━━━━━━━━━━━━┩  │\n",
       "│ │ \u001b[38;5;141mflight_date           \u001b[0m │ \u001b[36m     0\u001b[0m │ \u001b[36m        0\u001b[0m │ \u001b[31m    2019-01-01     \u001b[0m │ \u001b[31m    2023-08-31     \u001b[0m │ \u001b[38;5;141mNone            \u001b[0m │  │\n",
       "│ └────────────────────────┴────────┴───────────┴─────────────────────┴─────────────────────┴──────────────────┘  │\n",
       "│ \u001b[3m                                                    string                                                    \u001b[0m  │\n",
       "│ ┏━━━━━━━━━━━━━━━━━━━━━━━━━━━━━━━━━━━┳━━━━━━━━━━━━━━━┳━━━━━━━━━━━┳━━━━━━━━━━━━━━━━━━━━━━━━┳━━━━━━━━━━━━━━━━━━━┓  │\n",
       "│ ┃\u001b[1m \u001b[0m\u001b[1mcolumn_name                      \u001b[0m\u001b[1m \u001b[0m┃\u001b[1m \u001b[0m\u001b[1mNA           \u001b[0m\u001b[1m \u001b[0m┃\u001b[1m \u001b[0m\u001b[1mNA %     \u001b[0m\u001b[1m \u001b[0m┃\u001b[1m \u001b[0m\u001b[1mwords per row         \u001b[0m\u001b[1m \u001b[0m┃\u001b[1m \u001b[0m\u001b[1mtotal words      \u001b[0m\u001b[1m \u001b[0m┃  │\n",
       "│ ┡━━━━━━━━━━━━━━━━━━━━━━━━━━━━━━━━━━━╇━━━━━━━━━━━━━━━╇━━━━━━━━━━━╇━━━━━━━━━━━━━━━━━━━━━━━━╇━━━━━━━━━━━━━━━━━━━┩  │\n",
       "│ │ \u001b[38;5;141mairline_name                     \u001b[0m │ \u001b[36m            0\u001b[0m │ \u001b[36m        0\u001b[0m │ \u001b[36m                   3.1\u001b[0m │ \u001b[36m          9237328\u001b[0m │  │\n",
       "│ │ \u001b[38;5;141mairline_code                     \u001b[0m │ \u001b[36m            0\u001b[0m │ \u001b[36m        0\u001b[0m │ \u001b[36m                     1\u001b[0m │ \u001b[36m          3000000\u001b[0m │  │\n",
       "│ │ \u001b[38;5;141morigin_airport                   \u001b[0m │ \u001b[36m            0\u001b[0m │ \u001b[36m        0\u001b[0m │ \u001b[36m                     1\u001b[0m │ \u001b[36m          3000000\u001b[0m │  │\n",
       "│ │ \u001b[38;5;141morigin_city                      \u001b[0m │ \u001b[36m            0\u001b[0m │ \u001b[36m        0\u001b[0m │ \u001b[36m                   2.3\u001b[0m │ \u001b[36m          6983475\u001b[0m │  │\n",
       "│ │ \u001b[38;5;141mdestination_airport              \u001b[0m │ \u001b[36m            0\u001b[0m │ \u001b[36m        0\u001b[0m │ \u001b[36m                     1\u001b[0m │ \u001b[36m          3000000\u001b[0m │  │\n",
       "│ │ \u001b[38;5;141mdestination_city                 \u001b[0m │ \u001b[36m            0\u001b[0m │ \u001b[36m        0\u001b[0m │ \u001b[36m                   2.3\u001b[0m │ \u001b[36m          6981389\u001b[0m │  │\n",
       "│ │ \u001b[38;5;141mscheduled_departure_time         \u001b[0m │ \u001b[36m            0\u001b[0m │ \u001b[36m        0\u001b[0m │ \u001b[36m                     1\u001b[0m │ \u001b[36m          3000000\u001b[0m │  │\n",
       "│ │ \u001b[38;5;141mcancellation_code                \u001b[0m │ \u001b[36m      2920860\u001b[0m │ \u001b[36m    97.36\u001b[0m │ \u001b[36m                 0.026\u001b[0m │ \u001b[36m            79140\u001b[0m │  │\n",
       "│ └───────────────────────────────────┴───────────────┴───────────┴────────────────────────┴───────────────────┘  │\n",
       "╰────────────────────────────────────────────────────── End ──────────────────────────────────────────────────────╯\n"
      ]
     },
     "metadata": {},
     "output_type": "display_data"
    }
   ],
   "source": [
    "skim(flightProc.df)"
   ]
  },
  {
   "cell_type": "code",
   "execution_count": 59,
   "metadata": {},
   "outputs": [
    {
     "data": {
      "image/png": "[encoded data removed]",
      "text/plain": [
       "<Figure size 640x480 with 1 Axes>"
      ]
     },
     "metadata": {},
     "output_type": "display_data"
    }
   ],
   "source": [
    "flightProc.compare_file_sizes()"
   ]
  },
  {
   "cell_type": "markdown",
   "metadata": {},
   "source": [
    "We can notice that thanks to this cleaning, we have saved almost 100 MB of space."
   ]
  },
  {
   "cell_type": "markdown",
   "metadata": {},
   "source": [
    "## Next"
   ]
  },
  {
   "cell_type": "markdown",
   "metadata": {},
   "source": [
    "In this notebook, we have prepared our dataset to visualize it properly. We have renamed the columns, removed unnecessary ones, adjusted the data types of certain columns, and formatted the dates and durations correctly."
   ]
  }
 ],
 "metadata": {
  "kernelspec": {
   "display_name": "base",
   "language": "python",
   "name": "python3"
  },
  "language_info": {
   "codemirror_mode": {
    "name": "ipython",
    "version": 3
   },
   "file_extension": ".py",
   "mimetype": "text/x-python",
   "name": "python",
   "nbconvert_exporter": "python",
   "pygments_lexer": "ipython3",
   "version": "3.11.5"
  }
 },
 "nbformat": 4,
 "nbformat_minor": 2
}
